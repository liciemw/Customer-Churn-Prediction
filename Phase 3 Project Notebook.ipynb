{
 "cells": [
  {
   "cell_type": "code",
   "execution_count": 6,
   "id": "569c1c0e",
   "metadata": {},
   "outputs": [
    {
     "name": "stdout",
     "output_type": "stream",
     "text": [
      "  Subject Age Group  Subject ID     GO / SC Num  Terry Stop ID  \\\n",
      "0           36 - 45          -1  20160000157346         152518   \n",
      "1            1 - 17          -1  20150000314276          80366   \n",
      "2           18 - 25          -1  20180000027784         381908   \n",
      "3           18 - 25          -1  20160000438058         217923   \n",
      "4           26 - 35          -1  20150000198610          53289   \n",
      "\n",
      "  Stop Resolution                Weapon Type Officer ID  Officer YOB  \\\n",
      "0          Arrest  Lethal Cutting Instrument       6092         1956   \n",
      "1          Arrest                        NaN       7556         1982   \n",
      "2          Arrest                        NaN       5436         1963   \n",
      "3  Offense Report                        NaN       7713         1982   \n",
      "4  Offense Report                        NaN       5833         1969   \n",
      "\n",
      "  Officer Gender        Officer Race  ...     Reported Time  \\\n",
      "0              M  Hispanic or Latino  ...  14:05:00.0000000   \n",
      "1              M               White  ...  01:52:00.0000000   \n",
      "2              M               White  ...  19:56:00.0000000   \n",
      "3              M               White  ...  23:31:00.0000000   \n",
      "4              M               White  ...  19:11:00.0000000   \n",
      "\n",
      "                            Initial Call Type  \\\n",
      "0  BURG - IP/JO - RES (INCL UNOCC STRUCTURES)   \n",
      "1                   LIQUOR VIOLATIONS - MINOR   \n",
      "2  BURG - RES (INCL UNOCC STRUCTURES ON PROP)   \n",
      "3                            SHOPLIFT - THEFT   \n",
      "4          FIGHT - JO - PHYSICAL (NO WEAPONS)   \n",
      "\n",
      "                        Final Call Type Call Type  \\\n",
      "0     --BURGLARY - RESIDENTIAL OCCUPIED       911   \n",
      "1                   --NARCOTICS - OTHER    ONVIEW   \n",
      "2  --BURGLARY - RESIDENTIAL, UNOCCUPIED       911   \n",
      "3                    --THEFT - SHOPLIFT       911   \n",
      "4                 --DISTURBANCE - FIGHT       911   \n",
      "\n",
      "                               Officer Squad Arrest Flag Frisk Flag  \\\n",
      "0    SOUTHWEST PCT 2ND W - FRANK - PLATOON 2           N          Y   \n",
      "1               WEST PCT 3RD W - DAVID BEATS           N          N   \n",
      "2  SOUTHWEST PCT 2ND W - WILLIAM - PLATOON 2           N          N   \n",
      "3              NORTH PCT 3RD W - JOHN RELIEF           N          N   \n",
      "4           NORTH PCT 2ND WATCH - B/N RELIEF           N          N   \n",
      "\n",
      "    Precinct Sector Beat  \n",
      "0  Southwest      W   W1  \n",
      "1       West      Q   Q3  \n",
      "2  Southwest      W   W1  \n",
      "3      North      J   J2  \n",
      "4      North      N   N3  \n",
      "\n",
      "[5 rows x 23 columns]\n"
     ]
    }
   ],
   "source": [
    "#import libraries\n",
    "import pandas as pd\n",
    "\n",
    "#Read the CSV file into a pandas DataFrame\n",
    "df = pd.read_csv(\"dataset.csv\")\n",
    "\n",
    "#Display the first few rows of the DataFrame\n",
    "print(df.head())\n"
   ]
  },
  {
   "cell_type": "code",
   "execution_count": 9,
   "id": "c6e12bd6",
   "metadata": {},
   "outputs": [
    {
     "name": "stdout",
     "output_type": "stream",
     "text": [
      "(59166, 23)\n"
     ]
    }
   ],
   "source": [
    "#Shape of the DataFrame\n",
    "print(df.shape)"
   ]
  },
  {
   "cell_type": "code",
   "execution_count": 11,
   "id": "a6340d91",
   "metadata": {},
   "outputs": [
    {
     "name": "stdout",
     "output_type": "stream",
     "text": [
      "Subject Age Group           object\n",
      "Subject ID                   int64\n",
      "GO / SC Num                  int64\n",
      "Terry Stop ID                int64\n",
      "Stop Resolution             object\n",
      "Weapon Type                 object\n",
      "Officer ID                  object\n",
      "Officer YOB                  int64\n",
      "Officer Gender              object\n",
      "Officer Race                object\n",
      "Subject Perceived Race      object\n",
      "Subject Perceived Gender    object\n",
      "Reported Date               object\n",
      "Reported Time               object\n",
      "Initial Call Type           object\n",
      "Final Call Type             object\n",
      "Call Type                   object\n",
      "Officer Squad               object\n",
      "Arrest Flag                 object\n",
      "Frisk Flag                  object\n",
      "Precinct                    object\n",
      "Sector                      object\n",
      "Beat                        object\n",
      "dtype: object\n"
     ]
    }
   ],
   "source": [
    "#Data types of each column\n",
    "print(df.dtypes)\n"
   ]
  },
  {
   "cell_type": "code",
   "execution_count": 12,
   "id": "a90ce511",
   "metadata": {},
   "outputs": [
    {
     "name": "stdout",
     "output_type": "stream",
     "text": [
      "         Subject ID   GO / SC Num  Terry Stop ID   Officer YOB\n",
      "count  5.916600e+04  5.916600e+04   5.916600e+04  59166.000000\n",
      "mean   6.423902e+09  2.018498e+13   1.078652e+10   1983.917757\n",
      "std    1.129047e+10  8.653188e+10   1.593028e+10      9.471445\n",
      "min   -8.000000e+00 -1.000000e+00   2.802000e+04   1900.000000\n",
      "25%   -1.000000e+00  2.016000e+13   2.308388e+05   1979.000000\n",
      "50%   -1.000000e+00  2.018000e+13   4.969025e+05   1986.000000\n",
      "75%    7.743341e+09  2.020000e+13   1.600413e+10   1991.000000\n",
      "max    5.442487e+10  2.024000e+13   5.445969e+10   2002.000000\n"
     ]
    }
   ],
   "source": [
    "#Summary statistics for numerical columns\n",
    "print(df.describe())"
   ]
  },
  {
   "cell_type": "code",
   "execution_count": null,
   "id": "6f5b1baf",
   "metadata": {},
   "outputs": [],
   "source": []
  }
 ],
 "metadata": {
  "kernelspec": {
   "display_name": "Python (learn-env)",
   "language": "python",
   "name": "learn-env"
  },
  "language_info": {
   "codemirror_mode": {
    "name": "ipython",
    "version": 3
   },
   "file_extension": ".py",
   "mimetype": "text/x-python",
   "name": "python",
   "nbconvert_exporter": "python",
   "pygments_lexer": "ipython3",
   "version": "3.10.13"
  }
 },
 "nbformat": 4,
 "nbformat_minor": 5
}
